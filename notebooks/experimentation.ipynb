{
 "cells": [
  {
   "cell_type": "code",
   "execution_count": null,
   "id": "8f3592eb",
   "metadata": {},
   "outputs": [],
   "source": [
    "%reload_kedro"
   ]
  },
  {
   "cell_type": "markdown",
   "id": "4c44941f",
   "metadata": {},
   "source": [
    "# Loading data"
   ]
  },
  {
   "cell_type": "code",
   "execution_count": null,
   "id": "3833791c",
   "metadata": {},
   "outputs": [],
   "source": [
    "data_test = catalog.load('scored_test')\n",
    "model = catalog.load('model')\n",
    "data_test.head()"
   ]
  },
  {
   "cell_type": "markdown",
   "id": "8447f476",
   "metadata": {},
   "source": [
    "# Naive Conformal Predictor Algo\n",
    "\n",
    "Simple Algo based on the Quantile of the corret class.\n",
    "\n",
    "Garantee I have a 90% probability of a corret set."
   ]
  },
  {
   "cell_type": "markdown",
   "id": "dea7acc9",
   "metadata": {},
   "source": [
    "## 1) Get the scores of the correct class"
   ]
  },
  {
   "cell_type": "code",
   "execution_count": null,
   "id": "e5d151f4",
   "metadata": {},
   "outputs": [],
   "source": [
    "from numpy import quantile, where\n",
    "\n",
    "prob_c1 = data_test.prob.values\n",
    "prob_c0 = 1 - prob_c1\n",
    "target = data_test.target.values\n",
    "\n",
    "true_score = [p1 if t == 1 else p0 for p1, p0, t in \\\n",
    "                  zip(prob_c1, prob_c0, target)]"
   ]
  },
  {
   "cell_type": "code",
   "execution_count": null,
   "id": "b77883f4",
   "metadata": {},
   "outputs": [],
   "source": [
    "# check\n",
    "from numpy import concatenate\n",
    "\n",
    "concatenate((true_score[: 5], target[: 5], prob_c1[: 5], prob_c0[: 5]), )"
   ]
  },
  {
   "cell_type": "markdown",
   "id": "43df0835",
   "metadata": {},
   "source": [
    "## 2) Take the 10% Quantile"
   ]
  },
  {
   "cell_type": "code",
   "execution_count": null,
   "id": "8e78f7d2",
   "metadata": {},
   "outputs": [],
   "source": [
    "cutoff = quantile(true_score, 0.1)\n",
    "print(\"q10 = %4.4f\" % cutoff)"
   ]
  },
  {
   "cell_type": "markdown",
   "id": "798998cb",
   "metadata": {},
   "source": [
    "## 3) Use this threshold to decide on the decision Set with a garantee of 90%\n",
    "\n"
   ]
  },
  {
   "cell_type": "code",
   "execution_count": null,
   "id": "086279c7",
   "metadata": {},
   "outputs": [],
   "source": [
    "decision_set = [('1' if p1 >= cutoff else '', '0' if p0 >= cutoff else '') for p1, p0 in \\\n",
    "                  zip(prob_c1, prob_c0)]"
   ]
  },
  {
   "cell_type": "code",
   "execution_count": null,
   "id": "d942d912",
   "metadata": {},
   "outputs": [],
   "source": [
    "from numpy import unique\n",
    "\n",
    "categories, counts = unique(decision_set, return_counts=True, axis=0)\n",
    "print(\"categories = %s\" % categories)\n",
    "print(\"counts = %s\" % counts)"
   ]
  },
  {
   "cell_type": "code",
   "execution_count": null,
   "id": "04603af5",
   "metadata": {},
   "outputs": [],
   "source": [
    "true_score"
   ]
  },
  {
   "cell_type": "markdown",
   "id": "e8f523a2",
   "metadata": {},
   "source": [
    "# Trust Score"
   ]
  },
  {
   "cell_type": "code",
   "execution_count": null,
   "id": "a9dc5fe1",
   "metadata": {},
   "outputs": [],
   "source": [
    "import trustscore"
   ]
  },
  {
   "cell_type": "code",
   "execution_count": null,
   "id": "3c0361cf",
   "metadata": {},
   "outputs": [],
   "source": [
    "trust_model = trustscore.TrustScore()"
   ]
  },
  {
   "cell_type": "code",
   "execution_count": null,
   "id": "1fb4d926",
   "metadata": {},
   "outputs": [],
   "source": [
    "X = data_test[context.params['features']].values\n",
    "Y = data_test.target.values\n",
    "trust_model.fit(X, Y)"
   ]
  },
  {
   "cell_type": "code",
   "execution_count": null,
   "id": "7d731ee7",
   "metadata": {},
   "outputs": [],
   "source": [
    "pred = model.predict(X)\n",
    "trust_model.get_score(X, pred)"
   ]
  },
  {
   "cell_type": "code",
   "execution_count": null,
   "id": "843f3af6",
   "metadata": {},
   "outputs": [],
   "source": [
    "trust_model.get_score(X, pred)"
   ]
  },
  {
   "cell_type": "code",
   "execution_count": null,
   "id": "1a3d7268",
   "metadata": {},
   "outputs": [],
   "source": [
    "import trustscore.trustscore_evaluation as trustscore_evaluation"
   ]
  },
  {
   "cell_type": "code",
   "execution_count": null,
   "id": "d6a109e9",
   "metadata": {},
   "outputs": [],
   "source": [
    "percentile_levels = [0 + 0.5 * i for i in range(200)]\n",
    "signal_names = [\"Trust Score\"]\n",
    "signals = [trustscore.TrustScore()]\n",
    "trainer = trustscore_evaluation.run_logistic\n",
    "trustscore_evaluation.run_precision_recall_experiment_general(X,\n",
    "                                                            Y,\n",
    "                                                            n_repeats=10,\n",
    "                                                            percentile_levels=percentile_levels,\n",
    "                                                            trainer=trainer,\n",
    "                                                            signal_names=signal_names,\n",
    "                                                            signals=signals,\n",
    "                                                            extra_plot_title='s',\n",
    "                                                            skip_print=True,\n",
    "                                                            predict_when_correct=True)\n",
    "plt.show()"
   ]
  },
  {
   "cell_type": "code",
   "execution_count": null,
   "id": "cf63aab4",
   "metadata": {},
   "outputs": [],
   "source": []
  }
 ],
 "metadata": {
  "kernelspec": {
   "display_name": "KedroClassification",
   "language": "python",
   "name": "python3"
  },
  "language_info": {
   "codemirror_mode": {
    "name": "ipython",
    "version": 3
   },
   "file_extension": ".py",
   "mimetype": "text/x-python",
   "name": "python",
   "nbconvert_exporter": "python",
   "pygments_lexer": "ipython3",
   "version": "3.7.3"
  }
 },
 "nbformat": 4,
 "nbformat_minor": 5
}
