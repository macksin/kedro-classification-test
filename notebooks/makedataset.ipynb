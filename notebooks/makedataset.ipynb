{
 "cells": [
  {
   "cell_type": "code",
   "execution_count": null,
   "id": "82c80de0",
   "metadata": {},
   "outputs": [],
   "source": [
    "%reload_kedro"
   ]
  },
  {
   "cell_type": "code",
   "execution_count": null,
   "id": "c4b77fbb",
   "metadata": {},
   "outputs": [],
   "source": [
    "from pandas import DataFrame\n",
    "from sklearn.datasets import make_classification\n",
    "from numpy import bincount, mean\n",
    "\n",
    "args = dict(\n",
    "    n_samples=5_000,\n",
    "    n_features=50,\n",
    "    n_informative=10, \n",
    "    n_redundant=10, \n",
    "    n_repeated=5, \n",
    "    n_classes=2, \n",
    "    n_clusters_per_class=2,\n",
    "    weights=(0.9,),\n",
    "    random_state=42\n",
    ")\n",
    "\n",
    "data = make_classification(**args)\n",
    "\n",
    "print(bincount(data[1]), mean(data[1]))\n",
    "\n",
    "f = DataFrame(data[0])\n",
    "f['target'] = data[1]\n",
    "f"
   ]
  },
  {
   "cell_type": "code",
   "execution_count": null,
   "id": "83a3e3d5",
   "metadata": {},
   "outputs": [],
   "source": [
    "help(make_classification)"
   ]
  },
  {
   "cell_type": "code",
   "execution_count": null,
   "id": "bfe15e7a",
   "metadata": {},
   "outputs": [],
   "source": []
  }
 ],
 "metadata": {
  "kernelspec": {
   "display_name": "KedroClassification",
   "language": "python",
   "name": "python3"
  },
  "language_info": {
   "codemirror_mode": {
    "name": "ipython",
    "version": 3
   },
   "file_extension": ".py",
   "mimetype": "text/x-python",
   "name": "python",
   "nbconvert_exporter": "python",
   "pygments_lexer": "ipython3",
   "version": "3.7.3"
  }
 },
 "nbformat": 4,
 "nbformat_minor": 5
}
